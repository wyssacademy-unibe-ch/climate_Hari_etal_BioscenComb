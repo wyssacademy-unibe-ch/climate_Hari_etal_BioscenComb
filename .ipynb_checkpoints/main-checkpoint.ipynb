{
 "cells": [
  {
   "cell_type": "markdown",
   "id": "8d3830a7-a4d7-4f08-b4bb-f9d4df15833c",
   "metadata": {},
   "source": [
    "# Notebook overview land use filtering, post-processing, analyis and plotting in Hari et al. "
   ]
  },
  {
   "cell_type": "markdown",
   "id": "6b3904b1-4d3b-4eef-a809-16fa4ff22de0",
   "metadata": {},
   "source": [
    "all code can be found in /functions/\n",
    "for running the scripts the corresponding slurm scripts can be found in /slurm/"
   ]
  },
  {
   "cell_type": "markdown",
   "id": "8152bc90-e61b-4f52-afdc-5c80db5dd6e3",
   "metadata": {
    "tags": []
   },
   "source": [
    "## 1. Land Use Filtering\n",
    "\n",
    "### /LUF_caluclations/\n",
    "\n",
    "code to apply the land use filter to the SDM output\n",
    "\n",
    "- `05a_luf_dispersal4.py`: Land use filtering for limited dispersal scenario 2080\n",
    "- `05a_luf_hist_dispersal4.py`: Land use filtering for limited dispersal scenario 1995 \n",
    "\n",
    "all other scripts are additional sensitivity analysis or dispersal assumptions\n",
    "\n",
    "everything with _newbase at the end means it has the 1995 land use as base\n",
    "\n",
    "So for laoding present-day with 1995 land use base and future with according land use:\n",
    "                newvalue_hist_sum_path = os.path.join(output_dir, f\"sum_bin_hist_sum_{sdm}_{gcm}_{taxa}_['{scenario}']_['{time}']_dispersal4_newbase.pkl\")\r\n",
    "                newvalue_future_sum_path = os.path.join(output_dir, f\"sum_bin_future_sum_{sdm}_{gcm}_{taxa}_['{scenario}']_['{time}']_dispersal4_newbase.pkl\")\r\n",
    "                sum_bin_hist_sum_path = os.path.join(output_dir, f\"sum_bin_hist_sum_{sdm}_{gcm}_{taxa}_['{scenario}']_['{time}']_dispersal4.pkl\")\r\n",
    "                sum_bin_future_sum_path = os.path.join(output_dir, f\"sum_bin_future_sum_{sdm}_{gcm}_{taxa}_['{scenario}']_['{time}']_dispersal4.pkl\n",
    "else: use nwevalue_hist without newbase for present-day and future without any land use inclusion (newvalue always corresponds to the SDM otuput only)\")\n"
   ]
  },
  {
   "cell_type": "markdown",
   "id": "b514e7e7-a4f4-4411-8d52-a681e941b9a7",
   "metadata": {
    "tags": []
   },
   "source": [
    "## 2. Post-processing\n",
    "\n",
    "### /post-processing/\n",
    "\n",
    "code to sum and aggregate the probabilites of occurrences \n",
    "\n",
    "- `05a_summed_SR_dispersal4.py`: code to compute the species richness for the limited dispersal scenario\n",
    "- `05b_summed_SR_habitats_dispersal4.py`: code to compute the species richness for the limited dispersal scenario per habitat/land use categroy\n",
    "\n",
    "all other scripts are additional sensitivity analysis or dispersal assumptions"
   ]
  },
  {
   "cell_type": "markdown",
   "id": "8b6d461a-2f40-4aff-ba58-eaf12d8a7b3a",
   "metadata": {},
   "source": [
    "## 3. Analysis and plotting\n",
    "\n",
    "### /figures/code/\n",
    "\n",
    "code to analyze and plot the figures in the main text and the supplementary materials \n"
   ]
  }
 ],
 "metadata": {
  "kernelspec": {
   "display_name": "Python 3 (ipykernel)",
   "language": "python",
   "name": "python3"
  },
  "language_info": {
   "codemirror_mode": {
    "name": "ipython",
    "version": 3
   },
   "file_extension": ".py",
   "mimetype": "text/x-python",
   "name": "python",
   "nbconvert_exporter": "python",
   "pygments_lexer": "ipython3",
   "version": "3.11.7"
  }
 },
 "nbformat": 4,
 "nbformat_minor": 5
}
